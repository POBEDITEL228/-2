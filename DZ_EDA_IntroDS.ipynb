{
 "cells": [
  {
   "cell_type": "markdown",
   "id": "665e114d",
   "metadata": {},
   "source": [
    "# DZ 1 Немного EDA для маркетинговых данных"
   ]
  },
  {
   "cell_type": "markdown",
   "id": "95d74125",
   "metadata": {},
   "source": [
    "Вам предложены данные iFood — приложения для доставки еды в Бразилии, представленного более чем в тысяче городов.\n",
    "Поддержание высокой вовлеченности клиентов является важной задачей для компании. Для того, чтобы создавать новые предложения и проводить качественные рекламные кампании, необходимо понимать особенности и потребности целевой аудитории. Для этого были собраны данные о клиентах, использующих приложение. Вам предстоит выявить особенности людей, пользующихся данным приложением и найти интересные закономерности.\n",
    "\n",
    "Почитать про компанию можно, например, на википедии:) https://en.wikipedia.org/wiki/IFood"
   ]
  },
  {
   "cell_type": "markdown",
   "id": "db6e583b",
   "metadata": {},
   "source": [
    "Описание данных:\n",
    "    \n",
    "* AcceptedCmp1 - 1 if customer accepted the offer in the 1st campaign, 0 otherwise\n",
    "* AcceptedCmp2 - 1 if customer accepted the offer in the 2nd campaign, 0 otherwise\n",
    "* AcceptedCmp3 - 1 if customer accepted the offer in the 3rd campaign, 0 otherwise\n",
    "* AcceptedCmp4 - 1 if customer accepted the offer in the 4th campaign, 0 otherwise\n",
    "* AcceptedCmp5 - 1 if customer accepted the offer in the 5th campaign, 0 otherwise\n",
    "* Response (target) - 1 if customer accepted the offer in the last campaign, 0 otherwise\n",
    "* Complain - 1 if customer complained in the last 2 years\n",
    "* DtCustomer - date of customer’s enrolment with the company\n",
    "* Education - customer’s level of education\n",
    "* Marital - customer’s marital status\n",
    "* Kidhome - number of small children in customer’s household\n",
    "* Teenhome - number of teenagers in customer’s household\n",
    "* Income - customer’s yearly household income\n",
    "* MntFishProducts - amount spent on fish products in the last 2 years\n",
    "* MntMeatProducts - amount spent on meat products in the last 2 years\n",
    "* MntFruits - amount spent on fruits products in the last 2 years\n",
    "* MntSweetProducts - amount spent on sweet products in the last 2 years\n",
    "* MntWines - amount spent on wine products in the last 2 years\n",
    "* MntGoldProds - amount spent on gold products in the last 2 years\n",
    "* NumDealsPurchases - number of purchases made with discount\n",
    "* NumCatalogPurchases - number of purchases made using catalogue\n",
    "* NumStorePurchases - number of purchases made directly in stores\n",
    "* NumWebPurchases - number of purchases made through company’s web site\n",
    "* NumWebVisitsMonth - number of visits to company’s web site in the last month\n",
    "* Recency - number of days since the last purchase"
   ]
  },
  {
   "cell_type": "markdown",
   "id": "e269d555",
   "metadata": {},
   "source": [
    "## Немного важной информации:"
   ]
  },
  {
   "cell_type": "markdown",
   "id": "d07cc02d",
   "metadata": {},
   "source": [
    "1. Обязательно гуглите! Использование дополнительных методов не карается, но приветствуется (если вы сможете объяснить принцип их работы) Однако, если вы нашли что-то полезное и хотите скопировать себе - сделав это, добавьте в начале ячейки ссылку на источник. В противном случае это будет считаться плагиатом.\n",
    "\n",
    "2. Плагиат не допускается и строго наказывается. Единственное возможное исключение - код, заимствованный из интернета, с ссылкой на источник."
   ]
  },
  {
   "cell_type": "markdown",
   "id": "4cd87d25",
   "metadata": {},
   "source": [
    "## Задание 1 (1 балл): предобработка данных"
   ]
  },
  {
   "cell_type": "markdown",
   "id": "f0856f15",
   "metadata": {},
   "source": [
    "Откройте предложенные данные."
   ]
  },
  {
   "cell_type": "code",
   "execution_count": 1,
   "id": "b0366881",
   "metadata": {},
   "outputs": [
    {
     "name": "stdout",
     "output_type": "stream",
     "text": [
      "<class 'pandas.core.frame.DataFrame'>\n",
      "RangeIndex: 2240 entries, 0 to 2239\n",
      "Data columns (total 28 columns):\n",
      " #   Column               Non-Null Count  Dtype         \n",
      "---  ------               --------------  -----         \n",
      " 0   ID                   2240 non-null   int64         \n",
      " 1   Year_Birth           2240 non-null   int64         \n",
      " 2   Education            2240 non-null   object        \n",
      " 3   Marital_Status       2240 non-null   object        \n",
      " 4   Income               2216 non-null   object        \n",
      " 5   Kidhome              2240 non-null   int64         \n",
      " 6   Teenhome             2240 non-null   int64         \n",
      " 7   Dt_Customer          2240 non-null   datetime64[ns]\n",
      " 8   Recency              2240 non-null   int64         \n",
      " 9   MntWines             2240 non-null   int64         \n",
      " 10  MntFruits            2240 non-null   int64         \n",
      " 11  MntMeatProducts      2240 non-null   int64         \n",
      " 12  MntFishProducts      2240 non-null   int64         \n",
      " 13  MntSweetProducts     2240 non-null   int64         \n",
      " 14  MntGoldProds         2240 non-null   int64         \n",
      " 15  NumDealsPurchases    2240 non-null   int64         \n",
      " 16  NumWebPurchases      2240 non-null   int64         \n",
      " 17  NumCatalogPurchases  2240 non-null   int64         \n",
      " 18  NumStorePurchases    2240 non-null   int64         \n",
      " 19  NumWebVisitsMonth    2240 non-null   int64         \n",
      " 20  AcceptedCmp3         2240 non-null   int64         \n",
      " 21  AcceptedCmp4         2240 non-null   int64         \n",
      " 22  AcceptedCmp5         2240 non-null   int64         \n",
      " 23  AcceptedCmp1         2240 non-null   int64         \n",
      " 24  AcceptedCmp2         2240 non-null   int64         \n",
      " 25  Response             2240 non-null   int64         \n",
      " 26  Complain             2240 non-null   int64         \n",
      " 27  Country              2240 non-null   object        \n",
      "dtypes: datetime64[ns](1), int64(23), object(4)\n",
      "memory usage: 490.1+ KB\n"
     ]
    }
   ],
   "source": [
    "import pandas as pd\n",
    "import numpy as np \n",
    "\n",
    "pd.options.mode.chained_assignment = None \n",
    "\n",
    "\n",
    "df = pd.read_csv(\"marketing.csv\", parse_dates=['Dt_Customer'])\n",
    "df.info()\n",
    "st = ['MntWines', 'MntFruits', 'MntMeatProducts', 'MntFishProducts', 'MntSweetProducts', 'MntGoldProds',\n",
    "      'NumDealsPurchases', 'NumWebPurchases', 'NumCatalogPurchases', 'NumStorePurchases', 'NumWebVisitsMonth', 'Income']\n"
   ]
  },
  {
   "cell_type": "markdown",
   "id": "8743651c",
   "metadata": {},
   "source": [
    "Изучите ваши данные. Какие типы данных здесь представлены? Все ли данные считались в корректном и удобном для работы формате? Если нет, то с какими данными есть проблемы?"
   ]
  },
  {
   "cell_type": "code",
   "execution_count": 2,
   "id": "29ff54e1",
   "metadata": {},
   "outputs": [],
   "source": [
    "# В столбце Income есть пропуски, также корректнее было бы предстваить значения этого столбца в типе float"
   ]
  },
  {
   "cell_type": "markdown",
   "id": "4f42cbb7",
   "metadata": {},
   "source": [
    "Теперь необходимо привести некоторые данные в корректный вид. Преобразуйте признак income так, чтобы значения этого признака были обычными вещественными числами (float)"
   ]
  },
  {
   "cell_type": "code",
   "execution_count": 3,
   "id": "1bf60c74",
   "metadata": {},
   "outputs": [
    {
     "data": {
      "text/html": [
       "<div>\n",
       "<style scoped>\n",
       "    .dataframe tbody tr th:only-of-type {\n",
       "        vertical-align: middle;\n",
       "    }\n",
       "\n",
       "    .dataframe tbody tr th {\n",
       "        vertical-align: top;\n",
       "    }\n",
       "\n",
       "    .dataframe thead th {\n",
       "        text-align: right;\n",
       "    }\n",
       "</style>\n",
       "<table border=\"1\" class=\"dataframe\">\n",
       "  <thead>\n",
       "    <tr style=\"text-align: right;\">\n",
       "      <th></th>\n",
       "      <th>ID</th>\n",
       "      <th>Year_Birth</th>\n",
       "      <th>Education</th>\n",
       "      <th>Marital_Status</th>\n",
       "      <th>Income</th>\n",
       "      <th>Kidhome</th>\n",
       "      <th>Teenhome</th>\n",
       "      <th>Dt_Customer</th>\n",
       "      <th>Recency</th>\n",
       "      <th>MntWines</th>\n",
       "      <th>...</th>\n",
       "      <th>NumStorePurchases</th>\n",
       "      <th>NumWebVisitsMonth</th>\n",
       "      <th>AcceptedCmp3</th>\n",
       "      <th>AcceptedCmp4</th>\n",
       "      <th>AcceptedCmp5</th>\n",
       "      <th>AcceptedCmp1</th>\n",
       "      <th>AcceptedCmp2</th>\n",
       "      <th>Response</th>\n",
       "      <th>Complain</th>\n",
       "      <th>Country</th>\n",
       "    </tr>\n",
       "  </thead>\n",
       "  <tbody>\n",
       "    <tr>\n",
       "      <th>0</th>\n",
       "      <td>1826</td>\n",
       "      <td>1970</td>\n",
       "      <td>Graduation</td>\n",
       "      <td>Divorced</td>\n",
       "      <td>84835.0</td>\n",
       "      <td>0</td>\n",
       "      <td>0</td>\n",
       "      <td>2014-06-16</td>\n",
       "      <td>0</td>\n",
       "      <td>189</td>\n",
       "      <td>...</td>\n",
       "      <td>6</td>\n",
       "      <td>1</td>\n",
       "      <td>0</td>\n",
       "      <td>0</td>\n",
       "      <td>0</td>\n",
       "      <td>0</td>\n",
       "      <td>0</td>\n",
       "      <td>1</td>\n",
       "      <td>0</td>\n",
       "      <td>SP</td>\n",
       "    </tr>\n",
       "    <tr>\n",
       "      <th>1</th>\n",
       "      <td>1</td>\n",
       "      <td>1961</td>\n",
       "      <td>Graduation</td>\n",
       "      <td>Single</td>\n",
       "      <td>57091.0</td>\n",
       "      <td>0</td>\n",
       "      <td>0</td>\n",
       "      <td>2014-06-15</td>\n",
       "      <td>0</td>\n",
       "      <td>464</td>\n",
       "      <td>...</td>\n",
       "      <td>7</td>\n",
       "      <td>5</td>\n",
       "      <td>0</td>\n",
       "      <td>0</td>\n",
       "      <td>0</td>\n",
       "      <td>0</td>\n",
       "      <td>1</td>\n",
       "      <td>1</td>\n",
       "      <td>0</td>\n",
       "      <td>CA</td>\n",
       "    </tr>\n",
       "    <tr>\n",
       "      <th>2</th>\n",
       "      <td>10476</td>\n",
       "      <td>1958</td>\n",
       "      <td>Graduation</td>\n",
       "      <td>Married</td>\n",
       "      <td>67267.0</td>\n",
       "      <td>0</td>\n",
       "      <td>1</td>\n",
       "      <td>2014-05-13</td>\n",
       "      <td>0</td>\n",
       "      <td>134</td>\n",
       "      <td>...</td>\n",
       "      <td>5</td>\n",
       "      <td>2</td>\n",
       "      <td>0</td>\n",
       "      <td>0</td>\n",
       "      <td>0</td>\n",
       "      <td>0</td>\n",
       "      <td>0</td>\n",
       "      <td>0</td>\n",
       "      <td>0</td>\n",
       "      <td>US</td>\n",
       "    </tr>\n",
       "    <tr>\n",
       "      <th>3</th>\n",
       "      <td>1386</td>\n",
       "      <td>1967</td>\n",
       "      <td>Graduation</td>\n",
       "      <td>Together</td>\n",
       "      <td>32474.0</td>\n",
       "      <td>1</td>\n",
       "      <td>1</td>\n",
       "      <td>2014-05-11</td>\n",
       "      <td>0</td>\n",
       "      <td>10</td>\n",
       "      <td>...</td>\n",
       "      <td>2</td>\n",
       "      <td>7</td>\n",
       "      <td>0</td>\n",
       "      <td>0</td>\n",
       "      <td>0</td>\n",
       "      <td>0</td>\n",
       "      <td>0</td>\n",
       "      <td>0</td>\n",
       "      <td>0</td>\n",
       "      <td>AUS</td>\n",
       "    </tr>\n",
       "    <tr>\n",
       "      <th>4</th>\n",
       "      <td>5371</td>\n",
       "      <td>1989</td>\n",
       "      <td>Graduation</td>\n",
       "      <td>Single</td>\n",
       "      <td>21474.0</td>\n",
       "      <td>1</td>\n",
       "      <td>0</td>\n",
       "      <td>2014-04-08</td>\n",
       "      <td>0</td>\n",
       "      <td>6</td>\n",
       "      <td>...</td>\n",
       "      <td>2</td>\n",
       "      <td>7</td>\n",
       "      <td>1</td>\n",
       "      <td>0</td>\n",
       "      <td>0</td>\n",
       "      <td>0</td>\n",
       "      <td>0</td>\n",
       "      <td>1</td>\n",
       "      <td>0</td>\n",
       "      <td>SP</td>\n",
       "    </tr>\n",
       "  </tbody>\n",
       "</table>\n",
       "<p>5 rows × 28 columns</p>\n",
       "</div>"
      ],
      "text/plain": [
       "      ID  Year_Birth   Education Marital_Status   Income  Kidhome  Teenhome  \\\n",
       "0   1826        1970  Graduation       Divorced  84835.0        0         0   \n",
       "1      1        1961  Graduation         Single  57091.0        0         0   \n",
       "2  10476        1958  Graduation        Married  67267.0        0         1   \n",
       "3   1386        1967  Graduation       Together  32474.0        1         1   \n",
       "4   5371        1989  Graduation         Single  21474.0        1         0   \n",
       "\n",
       "  Dt_Customer  Recency  MntWines  ...  NumStorePurchases  NumWebVisitsMonth  \\\n",
       "0  2014-06-16        0       189  ...                  6                  1   \n",
       "1  2014-06-15        0       464  ...                  7                  5   \n",
       "2  2014-05-13        0       134  ...                  5                  2   \n",
       "3  2014-05-11        0        10  ...                  2                  7   \n",
       "4  2014-04-08        0         6  ...                  2                  7   \n",
       "\n",
       "   AcceptedCmp3  AcceptedCmp4  AcceptedCmp5  AcceptedCmp1  AcceptedCmp2  \\\n",
       "0             0             0             0             0             0   \n",
       "1             0             0             0             0             1   \n",
       "2             0             0             0             0             0   \n",
       "3             0             0             0             0             0   \n",
       "4             1             0             0             0             0   \n",
       "\n",
       "   Response  Complain  Country  \n",
       "0         1         0       SP  \n",
       "1         1         0       CA  \n",
       "2         0         0       US  \n",
       "3         0         0      AUS  \n",
       "4         1         0       SP  \n",
       "\n",
       "[5 rows x 28 columns]"
      ]
     },
     "execution_count": 3,
     "metadata": {},
     "output_type": "execute_result"
    }
   ],
   "source": [
    "\n",
    "df['Income'] = df['Income'].str.replace('\\$','', regex=True)\n",
    "df['Income'] = df['Income'].str.replace('\\,','', regex=True)\n",
    "df['Income'] = df.Income.astype('float64')\n",
    "df.head()\n",
    "#Убрали $ и запятые, привели к типу float64"
   ]
  },
  {
   "cell_type": "markdown",
   "id": "c0b873cb",
   "metadata": {},
   "source": [
    "Кроме того, даты нам было бы удобнее представить в корректном формате ГГГГ-ММ-ДД. Преобразуйте данные с датами в соответствующий вид."
   ]
  },
  {
   "cell_type": "code",
   "execution_count": 4,
   "id": "b9a5caa4",
   "metadata": {},
   "outputs": [],
   "source": [
    "# На первом этапе даты были автоматически преобразованы\n",
    "# https://newtechaudit.ru/gruzi-daty-krasivo/\n"
   ]
  },
  {
   "cell_type": "markdown",
   "id": "c87a6ac0",
   "metadata": {},
   "source": [
    "## Задание 2 (1.5 балла): пропуски и выбросы"
   ]
  },
  {
   "cell_type": "markdown",
   "id": "5198fc92",
   "metadata": {},
   "source": [
    "Исследуйте данные на предмет пропусков и выбросов. Есть ли в данных пропуски? Сколько и в каких признаках? Как вы будете их обрабатывать? Обработайте пропуски, пояснив выбранную вами стратегию обработки.\n",
    "\n",
    "_важно: просто удалить - это не стратегия обработки, придумайте что-то другое_"
   ]
  },
  {
   "cell_type": "code",
   "execution_count": 5,
   "id": "b1aa312b",
   "metadata": {},
   "outputs": [
    {
     "data": {
      "text/plain": [
       "ID                     0\n",
       "Year_Birth             0\n",
       "Education              0\n",
       "Marital_Status         0\n",
       "Income                 0\n",
       "Kidhome                0\n",
       "Teenhome               0\n",
       "Dt_Customer            0\n",
       "Recency                0\n",
       "MntWines               0\n",
       "MntFruits              0\n",
       "MntMeatProducts        0\n",
       "MntFishProducts        0\n",
       "MntSweetProducts       0\n",
       "MntGoldProds           0\n",
       "NumDealsPurchases      0\n",
       "NumWebPurchases        0\n",
       "NumCatalogPurchases    0\n",
       "NumStorePurchases      0\n",
       "NumWebVisitsMonth      0\n",
       "AcceptedCmp3           0\n",
       "AcceptedCmp4           0\n",
       "AcceptedCmp5           0\n",
       "AcceptedCmp1           0\n",
       "AcceptedCmp2           0\n",
       "Response               0\n",
       "Complain               0\n",
       "Country                0\n",
       "dtype: int64"
      ]
     },
     "execution_count": 5,
     "metadata": {},
     "output_type": "execute_result"
    }
   ],
   "source": [
    "# найдено 24 пропуска в столбце Income\n",
    "df['Income'] = df['Income'].fillna(df['Income'].mean()) # заменим пропуск на средние значения по столбцу\n",
    "df.isnull().sum()  # суммарное количество пропусков в каждом столбце"
   ]
  },
  {
   "cell_type": "markdown",
   "id": "88d8a7c7",
   "metadata": {},
   "source": [
    "Исследуйте данные на предмет выбросов и удалите их, если они есть. Если выбросы есть - продемонстрируйте это численно и с помощью визуализаций. Прокомментируйте, как вы ищете выбросы, и почему их стоит удалить."
   ]
  },
  {
   "cell_type": "code",
   "execution_count": 6,
   "id": "9180579f",
   "metadata": {},
   "outputs": [
    {
     "data": {
      "text/plain": [
       "<AxesSubplot:>"
      ]
     },
     "execution_count": 6,
     "metadata": {},
     "output_type": "execute_result"
    },
    {
     "data": {
      "image/png": "[encoded data removed]",
      "text/plain": [
       "<Figure size 432x288 with 1 Axes>"
      ]
     },
     "metadata": {
      "needs_background": "light"
     },
     "output_type": "display_data"
    }
   ],
   "source": [
    "\n",
    "# Выброс найден при помощи boxplot\n",
    "\n",
    "df.boxplot(column ='Income')\n",
    "\n",
    "\n"
   ]
  },
  {
   "cell_type": "code",
   "execution_count": 7,
   "id": "e2fb2580",
   "metadata": {},
   "outputs": [
    {
     "data": {
      "text/plain": [
       "count      2240.000000\n",
       "mean      52247.251354\n",
       "std       25037.797168\n",
       "min        1730.000000\n",
       "25%       35538.750000\n",
       "50%       51741.500000\n",
       "75%       68289.750000\n",
       "max      666666.000000\n",
       "Name: Income, dtype: float64"
      ]
     },
     "execution_count": 7,
     "metadata": {},
     "output_type": "execute_result"
    }
   ],
   "source": [
    "df['Income'].describe()\n",
    "\n",
    "# ПРовирим наличие выброса через статистику"
   ]
  },
  {
   "cell_type": "code",
   "execution_count": 8,
   "id": "d516accc",
   "metadata": {},
   "outputs": [],
   "source": [
    "for stl in st:\n",
    "    for x in [stl]:\n",
    "        q75,q25 = np.percentile(df.loc[:,x],[75,25])\n",
    "        intr_qr = q75-q25\n",
    "\n",
    "        max = q75+(1.5*intr_qr)\n",
    "        min = q25-(1.5*intr_qr)\n",
    "\n",
    "        df.loc[df[x] < min,x] = np.nan\n",
    "        df.loc[df[x] > max,x] = np.nan\n",
    "    df[stl] = df[stl].fillna(df[stl].mean()) # заменим пропуск на средние значения по столбцу\n",
    "\n",
    "# st - массив со столбцами, в которых мы ищем вбросы, был задан на 1 этапе\n",
    "# Найдем все выбросы в во всех столбцах , используя межквартальный размах и заменим их средним значением\n",
    "# Идея с сайта https://pythobyte.com/detection-removal-outliers-in-python-adaa857e/ \n"
   ]
  },
  {
   "cell_type": "code",
   "execution_count": 9,
   "id": "369a4ec8",
   "metadata": {},
   "outputs": [
    {
     "data": {
      "text/plain": [
       "count      2240.000000\n",
       "mean      51640.236126\n",
       "std       20564.922145\n",
       "min        1730.000000\n",
       "25%       35538.750000\n",
       "50%       51640.236126\n",
       "75%       68098.250000\n",
       "max      113734.000000\n",
       "Name: Income, dtype: float64"
      ]
     },
     "execution_count": 9,
     "metadata": {},
     "output_type": "execute_result"
    }
   ],
   "source": [
    "df['Income'].describe()\n",
    "\n"
   ]
  },
  {
   "cell_type": "markdown",
   "id": "303bdeed",
   "metadata": {},
   "source": [
    "## Задание 3 (1 балл): новые признаки"
   ]
  },
  {
   "cell_type": "markdown",
   "id": "bb465340",
   "metadata": {},
   "source": [
    "Подумайте, какие осмысленные признаки можно создать из имеющихся? Придумайте как минимум 2 и добавьте их, содержательно описав, почему вы их добавляете и по какому принципу."
   ]
  },
  {
   "cell_type": "code",
   "execution_count": 10,
   "id": "e81d60f1",
   "metadata": {},
   "outputs": [],
   "source": [
    "df['People_Count'] = df['Marital_Status']\n",
    "\n",
    "df = df.replace({'People_Count' : {'Alone' : 1,\n",
    "                             'Absurd' : 1,\n",
    "                            'Divorced': 1,\n",
    "                             'Married': 2,\n",
    "                             'Single': 1,\n",
    "                             'Together': 2,\n",
    "                             'Widow': 1,\n",
    "                             'YOLO': 1}})\n",
    "df['People_Count'] = df['People_Count'] + df['Kidhome'] + df['Teenhome']\n",
    "# Количество человек в семье"
   ]
  },
  {
   "cell_type": "code",
   "execution_count": 11,
   "id": "ce2dc3a2",
   "metadata": {},
   "outputs": [
    {
     "data": {
      "text/html": [
       "<div>\n",
       "<style scoped>\n",
       "    .dataframe tbody tr th:only-of-type {\n",
       "        vertical-align: middle;\n",
       "    }\n",
       "\n",
       "    .dataframe tbody tr th {\n",
       "        vertical-align: top;\n",
       "    }\n",
       "\n",
       "    .dataframe thead th {\n",
       "        text-align: right;\n",
       "    }\n",
       "</style>\n",
       "<table border=\"1\" class=\"dataframe\">\n",
       "  <thead>\n",
       "    <tr style=\"text-align: right;\">\n",
       "      <th></th>\n",
       "      <th>ID</th>\n",
       "      <th>Year_Birth</th>\n",
       "      <th>Education</th>\n",
       "      <th>Marital_Status</th>\n",
       "      <th>Income</th>\n",
       "      <th>Kidhome</th>\n",
       "      <th>Teenhome</th>\n",
       "      <th>Dt_Customer</th>\n",
       "      <th>Recency</th>\n",
       "      <th>MntWines</th>\n",
       "      <th>...</th>\n",
       "      <th>AcceptedCmp3</th>\n",
       "      <th>AcceptedCmp4</th>\n",
       "      <th>AcceptedCmp5</th>\n",
       "      <th>AcceptedCmp1</th>\n",
       "      <th>AcceptedCmp2</th>\n",
       "      <th>Response</th>\n",
       "      <th>Complain</th>\n",
       "      <th>Country</th>\n",
       "      <th>People_Count</th>\n",
       "      <th>Mnt</th>\n",
       "    </tr>\n",
       "  </thead>\n",
       "  <tbody>\n",
       "    <tr>\n",
       "      <th>0</th>\n",
       "      <td>1826</td>\n",
       "      <td>1970</td>\n",
       "      <td>Graduation</td>\n",
       "      <td>Divorced</td>\n",
       "      <td>84835.0</td>\n",
       "      <td>0</td>\n",
       "      <td>0</td>\n",
       "      <td>2014-06-16</td>\n",
       "      <td>0</td>\n",
       "      <td>189.0</td>\n",
       "      <td>...</td>\n",
       "      <td>0</td>\n",
       "      <td>0</td>\n",
       "      <td>0</td>\n",
       "      <td>0</td>\n",
       "      <td>0</td>\n",
       "      <td>1</td>\n",
       "      <td>0</td>\n",
       "      <td>SP</td>\n",
       "      <td>1</td>\n",
       "      <td>739.202543</td>\n",
       "    </tr>\n",
       "    <tr>\n",
       "      <th>1</th>\n",
       "      <td>1</td>\n",
       "      <td>1961</td>\n",
       "      <td>Graduation</td>\n",
       "      <td>Single</td>\n",
       "      <td>57091.0</td>\n",
       "      <td>0</td>\n",
       "      <td>0</td>\n",
       "      <td>2014-06-15</td>\n",
       "      <td>0</td>\n",
       "      <td>464.0</td>\n",
       "      <td>...</td>\n",
       "      <td>0</td>\n",
       "      <td>0</td>\n",
       "      <td>0</td>\n",
       "      <td>0</td>\n",
       "      <td>1</td>\n",
       "      <td>1</td>\n",
       "      <td>0</td>\n",
       "      <td>CA</td>\n",
       "      <td>1</td>\n",
       "      <td>577.000000</td>\n",
       "    </tr>\n",
       "    <tr>\n",
       "      <th>2</th>\n",
       "      <td>10476</td>\n",
       "      <td>1958</td>\n",
       "      <td>Graduation</td>\n",
       "      <td>Married</td>\n",
       "      <td>67267.0</td>\n",
       "      <td>0</td>\n",
       "      <td>1</td>\n",
       "      <td>2014-05-13</td>\n",
       "      <td>0</td>\n",
       "      <td>134.0</td>\n",
       "      <td>...</td>\n",
       "      <td>0</td>\n",
       "      <td>0</td>\n",
       "      <td>0</td>\n",
       "      <td>0</td>\n",
       "      <td>0</td>\n",
       "      <td>0</td>\n",
       "      <td>0</td>\n",
       "      <td>US</td>\n",
       "      <td>3</td>\n",
       "      <td>83.666667</td>\n",
       "    </tr>\n",
       "    <tr>\n",
       "      <th>3</th>\n",
       "      <td>1386</td>\n",
       "      <td>1967</td>\n",
       "      <td>Graduation</td>\n",
       "      <td>Together</td>\n",
       "      <td>32474.0</td>\n",
       "      <td>1</td>\n",
       "      <td>1</td>\n",
       "      <td>2014-05-11</td>\n",
       "      <td>0</td>\n",
       "      <td>10.0</td>\n",
       "      <td>...</td>\n",
       "      <td>0</td>\n",
       "      <td>0</td>\n",
       "      <td>0</td>\n",
       "      <td>0</td>\n",
       "      <td>0</td>\n",
       "      <td>0</td>\n",
       "      <td>0</td>\n",
       "      <td>AUS</td>\n",
       "      <td>4</td>\n",
       "      <td>2.750000</td>\n",
       "    </tr>\n",
       "    <tr>\n",
       "      <th>4</th>\n",
       "      <td>5371</td>\n",
       "      <td>1989</td>\n",
       "      <td>Graduation</td>\n",
       "      <td>Single</td>\n",
       "      <td>21474.0</td>\n",
       "      <td>1</td>\n",
       "      <td>0</td>\n",
       "      <td>2014-04-08</td>\n",
       "      <td>0</td>\n",
       "      <td>6.0</td>\n",
       "      <td>...</td>\n",
       "      <td>1</td>\n",
       "      <td>0</td>\n",
       "      <td>0</td>\n",
       "      <td>0</td>\n",
       "      <td>0</td>\n",
       "      <td>1</td>\n",
       "      <td>0</td>\n",
       "      <td>SP</td>\n",
       "      <td>2</td>\n",
       "      <td>45.500000</td>\n",
       "    </tr>\n",
       "  </tbody>\n",
       "</table>\n",
       "<p>5 rows × 30 columns</p>\n",
       "</div>"
      ],
      "text/plain": [
       "      ID  Year_Birth   Education Marital_Status   Income  Kidhome  Teenhome  \\\n",
       "0   1826        1970  Graduation       Divorced  84835.0        0         0   \n",
       "1      1        1961  Graduation         Single  57091.0        0         0   \n",
       "2  10476        1958  Graduation        Married  67267.0        0         1   \n",
       "3   1386        1967  Graduation       Together  32474.0        1         1   \n",
       "4   5371        1989  Graduation         Single  21474.0        1         0   \n",
       "\n",
       "  Dt_Customer  Recency  MntWines  ...  AcceptedCmp3  AcceptedCmp4  \\\n",
       "0  2014-06-16        0     189.0  ...             0             0   \n",
       "1  2014-06-15        0     464.0  ...             0             0   \n",
       "2  2014-05-13        0     134.0  ...             0             0   \n",
       "3  2014-05-11        0      10.0  ...             0             0   \n",
       "4  2014-04-08        0       6.0  ...             1             0   \n",
       "\n",
       "   AcceptedCmp5  AcceptedCmp1  AcceptedCmp2  Response  Complain  Country  \\\n",
       "0             0             0             0         1         0       SP   \n",
       "1             0             0             1         1         0       CA   \n",
       "2             0             0             0         0         0       US   \n",
       "3             0             0             0         0         0      AUS   \n",
       "4             0             0             0         1         0       SP   \n",
       "\n",
       "   People_Count         Mnt  \n",
       "0             1  739.202543  \n",
       "1             1  577.000000  \n",
       "2             3   83.666667  \n",
       "3             4    2.750000  \n",
       "4             2   45.500000  \n",
       "\n",
       "[5 rows x 30 columns]"
      ]
     },
     "execution_count": 11,
     "metadata": {},
     "output_type": "execute_result"
    }
   ],
   "source": [
    "# Сумма, потраченая на все категории товаров, деленная на на количество человек в семье\n",
    "df['Mnt'] =  (df['MntFishProducts'] + df['MntFruits'] + df['MntSweetProducts'] + df['MntWines']+ df['MntGoldProds'] \n",
    "+ df['MntMeatProducts']) / df['People_Count']\n",
    "df.head()"
   ]
  },
  {
   "cell_type": "code",
   "execution_count": null,
   "id": "46831534",
   "metadata": {},
   "outputs": [],
   "source": []
  },
  {
   "cell_type": "markdown",
   "id": "7824ea50",
   "metadata": {},
   "source": [
    "## Задание 4 (2.5 балла): время статистики!"
   ]
  },
  {
   "cell_type": "markdown",
   "id": "816ac1bc",
   "metadata": {},
   "source": [
    "Рассчитайте все описательные статистики для категориальных переменных (есть специальный метод, который выводит все доступные статистики разом - это то, что нужно!). Опишите, какие выводы вы можете сделать из полученных данных."
   ]
  },
  {
   "cell_type": "code",
   "execution_count": 12,
   "id": "dce51737",
   "metadata": {},
   "outputs": [
    {
     "data": {
      "text/html": [
       "<div>\n",
       "<style scoped>\n",
       "    .dataframe tbody tr th:only-of-type {\n",
       "        vertical-align: middle;\n",
       "    }\n",
       "\n",
       "    .dataframe tbody tr th {\n",
       "        vertical-align: top;\n",
       "    }\n",
       "\n",
       "    .dataframe thead th {\n",
       "        text-align: right;\n",
       "    }\n",
       "</style>\n",
       "<table border=\"1\" class=\"dataframe\">\n",
       "  <thead>\n",
       "    <tr style=\"text-align: right;\">\n",
       "      <th></th>\n",
       "      <th>Education</th>\n",
       "      <th>Marital_Status</th>\n",
       "      <th>Country</th>\n",
       "    </tr>\n",
       "  </thead>\n",
       "  <tbody>\n",
       "    <tr>\n",
       "      <th>count</th>\n",
       "      <td>2240</td>\n",
       "      <td>2240</td>\n",
       "      <td>2240</td>\n",
       "    </tr>\n",
       "    <tr>\n",
       "      <th>unique</th>\n",
       "      <td>5</td>\n",
       "      <td>8</td>\n",
       "      <td>8</td>\n",
       "    </tr>\n",
       "    <tr>\n",
       "      <th>top</th>\n",
       "      <td>Graduation</td>\n",
       "      <td>Married</td>\n",
       "      <td>SP</td>\n",
       "    </tr>\n",
       "    <tr>\n",
       "      <th>freq</th>\n",
       "      <td>1127</td>\n",
       "      <td>864</td>\n",
       "      <td>1095</td>\n",
       "    </tr>\n",
       "  </tbody>\n",
       "</table>\n",
       "</div>"
      ],
      "text/plain": [
       "         Education Marital_Status Country\n",
       "count         2240           2240    2240\n",
       "unique           5              8       8\n",
       "top     Graduation        Married      SP\n",
       "freq          1127            864    1095"
      ]
     },
     "execution_count": 12,
     "metadata": {},
     "output_type": "execute_result"
    }
   ],
   "source": [
    "cat_df = df[['Education','Marital_Status','Country']]\n",
    "cat_df.describe()\n",
    "\n",
    "\n",
    "#Большая часть покупателей - семьи, Испанцы с образованием уровня graduation\n"
   ]
  },
  {
   "cell_type": "markdown",
   "id": "2f767778",
   "metadata": {},
   "source": [
    "Рассчитайте все описательные статистики для количественных переменных.  (есть специальный метод, который выводит все доступные статистики разом - это то, что нужно!) Опишите, какие выводы вы можете сделать из полученных данных (хотя бы про какие-то 3 признака)."
   ]
  },
  {
   "cell_type": "code",
   "execution_count": 13,
   "id": "b11d3686",
   "metadata": {},
   "outputs": [
    {
     "data": {
      "text/html": [
       "<div>\n",
       "<style scoped>\n",
       "    .dataframe tbody tr th:only-of-type {\n",
       "        vertical-align: middle;\n",
       "    }\n",
       "\n",
       "    .dataframe tbody tr th {\n",
       "        vertical-align: top;\n",
       "    }\n",
       "\n",
       "    .dataframe thead th {\n",
       "        text-align: right;\n",
       "    }\n",
       "</style>\n",
       "<table border=\"1\" class=\"dataframe\">\n",
       "  <thead>\n",
       "    <tr style=\"text-align: right;\">\n",
       "      <th></th>\n",
       "      <th>NumDealsPurchases</th>\n",
       "      <th>NumCatalogPurchases</th>\n",
       "      <th>NumStorePurchases</th>\n",
       "      <th>NumWebPurchases</th>\n",
       "    </tr>\n",
       "  </thead>\n",
       "  <tbody>\n",
       "    <tr>\n",
       "      <th>count</th>\n",
       "      <td>2240.000000</td>\n",
       "      <td>2240.000000</td>\n",
       "      <td>2240.000000</td>\n",
       "      <td>2240.000000</td>\n",
       "    </tr>\n",
       "    <tr>\n",
       "      <th>mean</th>\n",
       "      <td>2.064531</td>\n",
       "      <td>2.547587</td>\n",
       "      <td>5.790179</td>\n",
       "      <td>4.046512</td>\n",
       "    </tr>\n",
       "    <tr>\n",
       "      <th>std</th>\n",
       "      <td>1.339947</td>\n",
       "      <td>2.629515</td>\n",
       "      <td>3.250958</td>\n",
       "      <td>2.625940</td>\n",
       "    </tr>\n",
       "    <tr>\n",
       "      <th>min</th>\n",
       "      <td>0.000000</td>\n",
       "      <td>0.000000</td>\n",
       "      <td>0.000000</td>\n",
       "      <td>0.000000</td>\n",
       "    </tr>\n",
       "    <tr>\n",
       "      <th>25%</th>\n",
       "      <td>1.000000</td>\n",
       "      <td>0.000000</td>\n",
       "      <td>3.000000</td>\n",
       "      <td>2.000000</td>\n",
       "    </tr>\n",
       "    <tr>\n",
       "      <th>50%</th>\n",
       "      <td>2.000000</td>\n",
       "      <td>2.000000</td>\n",
       "      <td>5.000000</td>\n",
       "      <td>4.000000</td>\n",
       "    </tr>\n",
       "    <tr>\n",
       "      <th>75%</th>\n",
       "      <td>3.000000</td>\n",
       "      <td>4.000000</td>\n",
       "      <td>8.000000</td>\n",
       "      <td>6.000000</td>\n",
       "    </tr>\n",
       "    <tr>\n",
       "      <th>max</th>\n",
       "      <td>6.000000</td>\n",
       "      <td>10.000000</td>\n",
       "      <td>13.000000</td>\n",
       "      <td>11.000000</td>\n",
       "    </tr>\n",
       "  </tbody>\n",
       "</table>\n",
       "</div>"
      ],
      "text/plain": [
       "       NumDealsPurchases  NumCatalogPurchases  NumStorePurchases  \\\n",
       "count        2240.000000          2240.000000        2240.000000   \n",
       "mean            2.064531             2.547587           5.790179   \n",
       "std             1.339947             2.629515           3.250958   \n",
       "min             0.000000             0.000000           0.000000   \n",
       "25%             1.000000             0.000000           3.000000   \n",
       "50%             2.000000             2.000000           5.000000   \n",
       "75%             3.000000             4.000000           8.000000   \n",
       "max             6.000000            10.000000          13.000000   \n",
       "\n",
       "       NumWebPurchases  \n",
       "count      2240.000000  \n",
       "mean          4.046512  \n",
       "std           2.625940  \n",
       "min           0.000000  \n",
       "25%           2.000000  \n",
       "50%           4.000000  \n",
       "75%           6.000000  \n",
       "max          11.000000  "
      ]
     },
     "execution_count": 13,
     "metadata": {},
     "output_type": "execute_result"
    }
   ],
   "source": [
    "count_df = df[['NumDealsPurchases','NumCatalogPurchases','NumStorePurchases','NumWebPurchases']]\n",
    "count_df.describe()\n",
    "# В среднем, люди больше всего покупают через оффлайн магазин,через дисконт меньше всего\n"
   ]
  },
  {
   "cell_type": "markdown",
   "id": "d164add7",
   "metadata": {},
   "source": [
    "Выберите 3 интересующих вас количественных признака и рассчитайте релевантные с вашей точки зрения описательные статистики для этих признаков, сгруппировав данные по семейному положению, образованию, стране. Какие закономерности вы можете отметить? Как их можно проинтерпретировать? "
   ]
  },
  {
   "cell_type": "code",
   "execution_count": 14,
   "id": "3970e087",
   "metadata": {},
   "outputs": [
    {
     "data": {
      "text/html": [
       "<div>\n",
       "<style scoped>\n",
       "    .dataframe tbody tr th:only-of-type {\n",
       "        vertical-align: middle;\n",
       "    }\n",
       "\n",
       "    .dataframe tbody tr th {\n",
       "        vertical-align: top;\n",
       "    }\n",
       "\n",
       "    .dataframe thead th {\n",
       "        text-align: right;\n",
       "    }\n",
       "</style>\n",
       "<table border=\"1\" class=\"dataframe\">\n",
       "  <thead>\n",
       "    <tr style=\"text-align: right;\">\n",
       "      <th></th>\n",
       "      <th>Mnt</th>\n",
       "      <th>MntWines</th>\n",
       "      <th>MntMeatProducts</th>\n",
       "      <th>MntFishProducts</th>\n",
       "    </tr>\n",
       "    <tr>\n",
       "      <th>Country</th>\n",
       "      <th></th>\n",
       "      <th></th>\n",
       "      <th></th>\n",
       "      <th></th>\n",
       "    </tr>\n",
       "  </thead>\n",
       "  <tbody>\n",
       "    <tr>\n",
       "      <th>IND</th>\n",
       "      <td>222.368135</td>\n",
       "      <td>0.466378</td>\n",
       "      <td>0.249791</td>\n",
       "      <td>0.068750</td>\n",
       "    </tr>\n",
       "    <tr>\n",
       "      <th>AUS</th>\n",
       "      <td>222.518515</td>\n",
       "      <td>0.484619</td>\n",
       "      <td>0.246030</td>\n",
       "      <td>0.066134</td>\n",
       "    </tr>\n",
       "    <tr>\n",
       "      <th>CA</th>\n",
       "      <td>248.924193</td>\n",
       "      <td>0.504296</td>\n",
       "      <td>0.230724</td>\n",
       "      <td>0.066863</td>\n",
       "    </tr>\n",
       "    <tr>\n",
       "      <th>SP</th>\n",
       "      <td>251.483727</td>\n",
       "      <td>0.501029</td>\n",
       "      <td>0.236127</td>\n",
       "      <td>0.063189</td>\n",
       "    </tr>\n",
       "    <tr>\n",
       "      <th>GER</th>\n",
       "      <td>257.126191</td>\n",
       "      <td>0.467326</td>\n",
       "      <td>0.248275</td>\n",
       "      <td>0.065498</td>\n",
       "    </tr>\n",
       "    <tr>\n",
       "      <th>SA</th>\n",
       "      <td>269.695944</td>\n",
       "      <td>0.500404</td>\n",
       "      <td>0.252707</td>\n",
       "      <td>0.060259</td>\n",
       "    </tr>\n",
       "    <tr>\n",
       "      <th>US</th>\n",
       "      <td>287.812261</td>\n",
       "      <td>0.490199</td>\n",
       "      <td>0.265076</td>\n",
       "      <td>0.057698</td>\n",
       "    </tr>\n",
       "    <tr>\n",
       "      <th>ME</th>\n",
       "      <td>591.768515</td>\n",
       "      <td>0.605540</td>\n",
       "      <td>0.285208</td>\n",
       "      <td>0.023776</td>\n",
       "    </tr>\n",
       "  </tbody>\n",
       "</table>\n",
       "</div>"
      ],
      "text/plain": [
       "                Mnt  MntWines  MntMeatProducts  MntFishProducts\n",
       "Country                                                        \n",
       "IND      222.368135  0.466378         0.249791         0.068750\n",
       "AUS      222.518515  0.484619         0.246030         0.066134\n",
       "CA       248.924193  0.504296         0.230724         0.066863\n",
       "SP       251.483727  0.501029         0.236127         0.063189\n",
       "GER      257.126191  0.467326         0.248275         0.065498\n",
       "SA       269.695944  0.500404         0.252707         0.060259\n",
       "US       287.812261  0.490199         0.265076         0.057698\n",
       "ME       591.768515  0.605540         0.285208         0.023776"
      ]
     },
     "execution_count": 14,
     "metadata": {},
     "output_type": "execute_result"
    }
   ],
   "source": [
    "country_df = df[['Mnt','Country']]\n",
    "\n",
    "country_df['MntWines'] = df['MntWines'] / df['People_Count'] / df['Mnt'] \n",
    "country_df['MntMeatProducts'] = df['MntMeatProducts'] / df['People_Count'] / df['Mnt']\n",
    "country_df['MntFishProducts'] = df['MntFishProducts'] / df['People_Count']/  df['Mnt']\n",
    "country_df.groupby('Country').mean().sort_values(by='Mnt')\n",
    "\n",
    "\n",
    "# Мексиканцы тратят больше остальных наций на покупки, причем стоимсть вин составляют большую часть стоимость\n",
    "\n",
    "\n"
   ]
  },
  {
   "cell_type": "code",
   "execution_count": 15,
   "id": "454c1d91",
   "metadata": {},
   "outputs": [
    {
     "data": {
      "text/html": [
       "<div>\n",
       "<style scoped>\n",
       "    .dataframe tbody tr th:only-of-type {\n",
       "        vertical-align: middle;\n",
       "    }\n",
       "\n",
       "    .dataframe tbody tr th {\n",
       "        vertical-align: top;\n",
       "    }\n",
       "\n",
       "    .dataframe thead th {\n",
       "        text-align: right;\n",
       "    }\n",
       "</style>\n",
       "<table border=\"1\" class=\"dataframe\">\n",
       "  <thead>\n",
       "    <tr style=\"text-align: right;\">\n",
       "      <th></th>\n",
       "      <th>Mnt</th>\n",
       "      <th>MntWines</th>\n",
       "      <th>MntMeatProducts</th>\n",
       "      <th>MntFishProducts</th>\n",
       "    </tr>\n",
       "    <tr>\n",
       "      <th>Marital_Status</th>\n",
       "      <th></th>\n",
       "      <th></th>\n",
       "      <th></th>\n",
       "      <th></th>\n",
       "    </tr>\n",
       "  </thead>\n",
       "  <tbody>\n",
       "    <tr>\n",
       "      <th>YOLO</th>\n",
       "      <td>212.000000</td>\n",
       "      <td>0.759434</td>\n",
       "      <td>0.117925</td>\n",
       "      <td>0.009434</td>\n",
       "    </tr>\n",
       "    <tr>\n",
       "      <th>Alone</th>\n",
       "      <td>90.500000</td>\n",
       "      <td>0.402413</td>\n",
       "      <td>0.169098</td>\n",
       "      <td>0.098372</td>\n",
       "    </tr>\n",
       "    <tr>\n",
       "      <th>Widow</th>\n",
       "      <td>418.055238</td>\n",
       "      <td>0.545209</td>\n",
       "      <td>0.222949</td>\n",
       "      <td>0.064587</td>\n",
       "    </tr>\n",
       "    <tr>\n",
       "      <th>Married</th>\n",
       "      <td>186.179576</td>\n",
       "      <td>0.492472</td>\n",
       "      <td>0.239640</td>\n",
       "      <td>0.065107</td>\n",
       "    </tr>\n",
       "    <tr>\n",
       "      <th>Divorced</th>\n",
       "      <td>343.946447</td>\n",
       "      <td>0.512617</td>\n",
       "      <td>0.240739</td>\n",
       "      <td>0.057243</td>\n",
       "    </tr>\n",
       "    <tr>\n",
       "      <th>Together</th>\n",
       "      <td>197.131363</td>\n",
       "      <td>0.504011</td>\n",
       "      <td>0.244957</td>\n",
       "      <td>0.062360</td>\n",
       "    </tr>\n",
       "    <tr>\n",
       "      <th>Single</th>\n",
       "      <td>366.724422</td>\n",
       "      <td>0.474831</td>\n",
       "      <td>0.245400</td>\n",
       "      <td>0.065312</td>\n",
       "    </tr>\n",
       "    <tr>\n",
       "      <th>Absurd</th>\n",
       "      <td>792.466995</td>\n",
       "      <td>0.464384</td>\n",
       "      <td>0.376919</td>\n",
       "      <td>0.028402</td>\n",
       "    </tr>\n",
       "  </tbody>\n",
       "</table>\n",
       "</div>"
      ],
      "text/plain": [
       "                       Mnt  MntWines  MntMeatProducts  MntFishProducts\n",
       "Marital_Status                                                        \n",
       "YOLO            212.000000  0.759434         0.117925         0.009434\n",
       "Alone            90.500000  0.402413         0.169098         0.098372\n",
       "Widow           418.055238  0.545209         0.222949         0.064587\n",
       "Married         186.179576  0.492472         0.239640         0.065107\n",
       "Divorced        343.946447  0.512617         0.240739         0.057243\n",
       "Together        197.131363  0.504011         0.244957         0.062360\n",
       "Single          366.724422  0.474831         0.245400         0.065312\n",
       "Absurd          792.466995  0.464384         0.376919         0.028402"
      ]
     },
     "execution_count": 15,
     "metadata": {},
     "output_type": "execute_result"
    }
   ],
   "source": [
    "marital_df = df[['Mnt','Marital_Status']]\n",
    "\n",
    "\n",
    "marital_df['MntWines'] = df['MntWines'] / df['People_Count'] / df['Mnt'] \n",
    "marital_df['MntMeatProducts'] = df['MntMeatProducts'] / df['People_Count'] / df['Mnt']\n",
    "marital_df['MntFishProducts'] = df['MntFishProducts'] / df['People_Count']/  df['Mnt']\n",
    "\n",
    "\n",
    "marital_df.groupby('Marital_Status').mean().sort_values(by='MntMeatProducts')\n",
    "# Люди со статусом YOLO тратят больше всех на алкоголь и в разы меньше остальных тратит на рыбу. \n",
    "# Им стоит предлагать только алкоголь\n",
    "# Исходя из статистики, люди со статусом Alone больше тратят на рыбу, чем осталные.\n",
    "# Следовательно, им нужно предлагать больше рыбы\n",
    "\n",
    "\n"
   ]
  },
  {
   "cell_type": "code",
   "execution_count": 16,
   "id": "7f947c46",
   "metadata": {},
   "outputs": [
    {
     "data": {
      "text/html": [
       "<div>\n",
       "<style scoped>\n",
       "    .dataframe tbody tr th:only-of-type {\n",
       "        vertical-align: middle;\n",
       "    }\n",
       "\n",
       "    .dataframe tbody tr th {\n",
       "        vertical-align: top;\n",
       "    }\n",
       "\n",
       "    .dataframe thead th {\n",
       "        text-align: right;\n",
       "    }\n",
       "</style>\n",
       "<table border=\"1\" class=\"dataframe\">\n",
       "  <thead>\n",
       "    <tr style=\"text-align: right;\">\n",
       "      <th></th>\n",
       "      <th>Mnt</th>\n",
       "      <th>MntWines</th>\n",
       "      <th>MntMeatProducts</th>\n",
       "      <th>MntFishProducts</th>\n",
       "    </tr>\n",
       "    <tr>\n",
       "      <th>Education</th>\n",
       "      <th></th>\n",
       "      <th></th>\n",
       "      <th></th>\n",
       "      <th></th>\n",
       "    </tr>\n",
       "  </thead>\n",
       "  <tbody>\n",
       "    <tr>\n",
       "      <th>Basic</th>\n",
       "      <td>32.974297</td>\n",
       "      <td>0.056929</td>\n",
       "      <td>0.147343</td>\n",
       "      <td>0.201106</td>\n",
       "    </tr>\n",
       "    <tr>\n",
       "      <th>2n Cycle</th>\n",
       "      <td>203.848490</td>\n",
       "      <td>0.357711</td>\n",
       "      <td>0.241985</td>\n",
       "      <td>0.097143</td>\n",
       "    </tr>\n",
       "    <tr>\n",
       "      <th>Graduation</th>\n",
       "      <td>252.765560</td>\n",
       "      <td>0.465388</td>\n",
       "      <td>0.257807</td>\n",
       "      <td>0.069177</td>\n",
       "    </tr>\n",
       "    <tr>\n",
       "      <th>Master</th>\n",
       "      <td>267.620616</td>\n",
       "      <td>0.559621</td>\n",
       "      <td>0.230738</td>\n",
       "      <td>0.043394</td>\n",
       "    </tr>\n",
       "    <tr>\n",
       "      <th>PhD</th>\n",
       "      <td>284.858149</td>\n",
       "      <td>0.623585</td>\n",
       "      <td>0.223108</td>\n",
       "      <td>0.036619</td>\n",
       "    </tr>\n",
       "  </tbody>\n",
       "</table>\n",
       "</div>"
      ],
      "text/plain": [
       "                   Mnt  MntWines  MntMeatProducts  MntFishProducts\n",
       "Education                                                         \n",
       "Basic        32.974297  0.056929         0.147343         0.201106\n",
       "2n Cycle    203.848490  0.357711         0.241985         0.097143\n",
       "Graduation  252.765560  0.465388         0.257807         0.069177\n",
       "Master      267.620616  0.559621         0.230738         0.043394\n",
       "PhD         284.858149  0.623585         0.223108         0.036619"
      ]
     },
     "execution_count": 16,
     "metadata": {},
     "output_type": "execute_result"
    }
   ],
   "source": [
    "edu_df = df[['Mnt','Education']]\n",
    "\n",
    "edu_df['MntWines'] = df['MntWines'] / df['People_Count'] / df['Mnt'] \n",
    "edu_df['MntMeatProducts'] = df['MntMeatProducts'] / df['People_Count'] / df['Mnt']\n",
    "edu_df['MntFishProducts'] = df['MntFishProducts'] / df['People_Count']/  df['Mnt']\n",
    "\n",
    "\n",
    "edu_df.groupby('Education').mean().sort_values(by='Mnt')\n",
    "# Группировка по образованию\n",
    "# Чем выше уровень обрасования, тем больше человек любит вино\n",
    "\n"
   ]
  },
  {
   "cell_type": "markdown",
   "id": "c8f30646",
   "metadata": {},
   "source": [
    "## Задание 5 (1 балл): корреляции"
   ]
  },
  {
   "cell_type": "markdown",
   "id": "d5e4be43",
   "metadata": {},
   "source": [
    "Найдите три самых сильных линейных взаимосвязи.Опишите, между какими признаками вы их нашли и содержательно проинтерпретируйте, почему (с вашей точки зрения) эти показатели связаны. \n",
    "\n",
    "_важно: необходимо вывести именно с помощью кода 3 пары самых сильно скоррелированных признака, а не искать их глазами в матрице корреляций_"
   ]
  },
  {
   "cell_type": "code",
   "execution_count": 17,
   "id": "fe8acff2",
   "metadata": {},
   "outputs": [
    {
     "data": {
      "text/plain": [
       "MntWines             Mnt                    0.780954\n",
       "Income               NumCatalogPurchases    0.725507\n",
       "NumCatalogPurchases  Income                 0.725507\n",
       "Income               MntWines               0.717970\n",
       "MntWines             Income                 0.717970\n",
       "Mnt                  MntMeatProducts        0.695280\n",
       "MntMeatProducts      Mnt                    0.695280\n",
       "MntWines             NumCatalogPurchases    0.688892\n",
       "NumCatalogPurchases  MntWines               0.688892\n",
       "Mnt                  Income                 0.687792\n",
       "Income               Mnt                    0.687792\n",
       "Mnt                  NumCatalogPurchases    0.687763\n",
       "NumCatalogPurchases  Mnt                    0.687763\n",
       "Income               NumStorePurchases      0.679092\n",
       "NumStorePurchases    Income                 0.679092\n",
       "                     MntWines               0.670737\n",
       "MntWines             NumStorePurchases      0.670737\n",
       "NumCatalogPurchases  MntMeatProducts        0.664662\n",
       "MntMeatProducts      NumCatalogPurchases    0.664662\n",
       "dtype: float64"
      ]
     },
     "execution_count": 17,
     "metadata": {},
     "output_type": "execute_result"
    }
   ],
   "source": [
    "corr = df.corr()\n",
    "\n",
    "#сделали матрицу корреляций, применили модуль, чтобы правильно остортировать отрицательные корреляции\n",
    "\n",
    "corr = corr.unstack()\n",
    "corr = corr.sort_values(ascending=False) \n",
    "corr = corr.loc[corr < 1]\n",
    "# отсортировали значения корреляций по убыванию, удалили значения = 1\n",
    "\n",
    "corr[1:20]\n",
    "\n",
    "#MntWines и Mnt\n",
    "#Вина составляют большую часть от всех трат\n",
    "\n",
    "#Income и NumCatalogPurchases\n",
    "#Можно предположить, что каталоги отсылаются только\n",
    "#богатым людям или производят на них более сильные впечатления\n",
    "\n",
    "#MntWines и Income\n",
    "#ЦА нашего вина - обеспеченные люди, более бедные пьют другое, в других магазинах\n",
    "\n"
   ]
  },
  {
   "cell_type": "code",
   "execution_count": null,
   "id": "33a15777",
   "metadata": {},
   "outputs": [],
   "source": []
  },
  {
   "cell_type": "markdown",
   "id": "6533d54b",
   "metadata": {},
   "source": [
    "## Задание 6 (2 балла) : визуализации"
   ]
  },
  {
   "cell_type": "markdown",
   "id": "0212ace5",
   "metadata": {},
   "source": [
    "Придумайте и постройте как минимум 6 содержательных визуализаций, которые будут иллюстрировать те или иные выводы, которые вы сделали на основе данных. К каждой визуализации должна прилагаться содержательная текстовая интерпретация. Каждая визуализация должна быть грамотно оформлена, с соблюдением всем правил. Необходимо задействовать не менее 4 типов диаграмм. "
   ]
  },
  {
   "cell_type": "code",
   "execution_count": 18,
   "id": "d76124e9",
   "metadata": {},
   "outputs": [],
   "source": [
    "#алкогольная зависимость и образование круги\n",
    "#x - образование\n",
    "#у - доход\n",
    "#размер - траты вино\n",
    "\n",
    "#Мексике стабильные и лояльные покупатели столбцы\n",
    "#std nation income\n",
    "\n",
    "\n",
    "#Большая часть покупателей - семьи, Испанцы с образованием уровня graduation\n",
    "#кучность точек\n",
    "\n",
    "#Богатые и каталоги income тип покупки столбцы\n",
    "\n",
    "# Люди со статусом YOLO тратят больше всех на алкоголь и в разы меньше остальных тратит на рыбу. \n",
    "# линейный\n",
    "\n",
    "# Исходя из статистики, люди со статусом Alone больше тратят на рыбу, чем осталные.\n",
    "# библиотеки для визуализации\n",
    "import matplotlib.pyplot as plt\n",
    "import seaborn as sns"
   ]
  },
  {
   "cell_type": "code",
   "execution_count": 35,
   "id": "88c18324",
   "metadata": {},
   "outputs": [
    {
     "data": {
      "text/plain": [
       "Text(0.5, 1.0, 'Траты на рыбу')"
      ]
     },
     "execution_count": 35,
     "metadata": {},
     "output_type": "execute_result"
    },
    {
     "data": {
      "image/png": "[encoded data removed]",
      "text/plain": [
       "<Figure size 432x288 with 1 Axes>"
      ]
     },
     "metadata": {
      "needs_background": "light"
     },
     "output_type": "display_data"
    }
   ],
   "source": [
    "marital_df = df[['Marital_Status']]\n",
    "\n",
    "marital_df['MntFishProducts'] = df['MntFishProducts'] / df['People_Count']/  df['Mnt'] * 100\n",
    "\n",
    "pl = marital_df.groupby('Marital_Status').mean().plot(kind='bar')\n",
    "pl.set_xlabel('Семейное положение')\n",
    "pl.set_ylabel('% от расходов')\n",
    "pl.set_title(\"Траты на рыбу\")\n",
    "# Исходя из статистики, люди со статусом Alone больше тратят на рыбу большую часть своего заработка"
   ]
  },
  {
   "cell_type": "code",
   "execution_count": 20,
   "id": "bde9803e",
   "metadata": {},
   "outputs": [
    {
     "data": {
      "text/plain": [
       "Text(0, 0.5, 'Траты на вина')"
      ]
     },
     "execution_count": 20,
     "metadata": {},
     "output_type": "execute_result"
    },
    {
     "data": {
      "image/png": "[encoded data removed]",
      "text/plain": [
       "<Figure size 432x288 with 1 Axes>"
      ]
     },
     "metadata": {
      "needs_background": "light"
     },
     "output_type": "display_data"
    }
   ],
   "source": [
    "\n",
    "wines = df[['Income']]\n",
    "wines['MntWines'] = df['MntWines'] / df['People_Count']\n",
    "wines.groupby('Income')\n",
    "fig, ax = plt.subplots() \n",
    "ax.scatter(wines['Income'], wines['MntWines'],alpha = 0.2);\n",
    "ax.set_xlabel('Доход')\n",
    "ax.set_ylabel('Траты на вина')\n",
    "\n",
    "# По графику видно, что люди, которые больше зарабатывают, больше тратят на вина"
   ]
  },
  {
   "cell_type": "code",
   "execution_count": 33,
   "id": "dc74eb2d",
   "metadata": {},
   "outputs": [
    {
     "data": {
      "image/png": "[encoded data removed]",
      "text/plain": [
       "<Figure size 1008x648 with 6 Axes>"
      ]
     },
     "metadata": {
      "needs_background": "light"
     },
     "output_type": "display_data"
    }
   ],
   "source": [
    "df_b = df[['Income', 'Mnt', 'Education']]\n",
    "df_b = df_b[df_b['Education'] == 'Basic']\n",
    "df_b.drop(columns = ['Education'],axis = 1)\n",
    "\n",
    "df_c = df[['Income', 'Mnt', 'Education']]\n",
    "df_c = df_c[df_c['Education'] == '2n Cycle']\n",
    "df_b.drop(columns = ['Education'],axis = 1)\n",
    "\n",
    "\n",
    "df_g = df[['Income', 'Mnt', 'Education']]\n",
    "df_g = df_g[df_g['Education'] == 'Graduation']\n",
    "df_b.drop(columns = ['Education'],axis = 1)\n",
    "\n",
    "df_m = df[['Income', 'Mnt', 'Education']]\n",
    "df_m = df_m[df_m['Education'] == 'Master']\n",
    "df_m.drop(columns = ['Education'],axis = 1)\n",
    "\n",
    "df_p = df[['Income', 'Mnt', 'Education']]\n",
    "df_p = df_p[df_p['Education'] == 'PhD']\n",
    "df_p.drop(columns = ['Education'],axis = 1)\n",
    "\n",
    "\n",
    "\n",
    "fig, ax = plt.subplots(3,2, figsize=(14,9))\n",
    "plt.subplots_adjust(wspace = 0.5, hspace = 0.5 )\n",
    "\n",
    "\n",
    "ax[0][0].scatter(df_b['Mnt'],df_b['Income'] ,alpha = 0.2)\n",
    "ax[0][0].title.set_text('Basic')\n",
    "\n",
    "\n",
    "\n",
    "ax[0][1].scatter(df_c['Mnt'],df_c['Income'] ,alpha = 0.2)\n",
    "ax[0][1].title.set_text('2n Cycle')\n",
    "\n",
    "\n",
    "\n",
    "ax[1][0].scatter(df_g['Mnt'],df_g['Income'] ,alpha = 0.2)\n",
    "ax[1][0].title.set_text('Graduation')\n",
    "\n",
    "\n",
    "\n",
    "ax[1][1].scatter(df_m['Mnt'],df_m['Income'] ,alpha = 0.2)\n",
    "ax[1][1].title.set_text('Master')\n",
    "\n",
    "\n",
    "ax[2][0].scatter(df_p['Mnt'],df_p['Income'] ,alpha = 0.2)\n",
    "ax[2][0].title.set_text('PhD')\n",
    "\n",
    "\n",
    "for x in range(3):\n",
    "    for y in range(2):\n",
    "        ax[x,y].set_xlabel('Траты')\n",
    "        ax[x,y].set_ylabel('Доходы')\n",
    "        ax[x,y].axis(ymin=0,ymax=100000)\n",
    "        ax[x,y].axis(xmin=0,xmax=1500)\n",
    "\n",
    "\n",
    "\n",
    "# Исходя из графиков можно сделать вывод, что доход зависит от образования. \n",
    "# Люди с более высоким уровнем образования часто больше тратят на покупки"
   ]
  },
  {
   "cell_type": "markdown",
   "id": "aa0b89fa",
   "metadata": {},
   "source": [
    "## Задание 7 (1 балл): немного исследований"
   ]
  },
  {
   "cell_type": "markdown",
   "id": "8a1a7c59",
   "metadata": {},
   "source": [
    "Попробуйте найти в данных какую-то классную интересную особенность. Может быть, рыбу едят только неженатые? Или самый большой заработок и потребление фруктов у людей без образования? Приведите все расчеты, и визуализации для обнаруженного факта. Он должен быть правда интересным и удивлять! Попробуйте описать, почему (как вам кажется) так получилось."
   ]
  },
  {
   "cell_type": "code",
   "execution_count": 22,
   "id": "4d84d27c",
   "metadata": {},
   "outputs": [],
   "source": [
    "# Ваш код и комментарий"
   ]
  }
 ],
 "metadata": {
  "kernelspec": {
   "display_name": "Python 3 (ipykernel)",
   "language": "python",
   "name": "python3"
  },
  "language_info": {
   "codemirror_mode": {
    "name": "ipython",
    "version": 3
   },
   "file_extension": ".py",
   "mimetype": "text/x-python",
   "name": "python",
   "nbconvert_exporter": "python",
   "pygments_lexer": "ipython3",
   "version": "3.9.7"
  }
 },
 "nbformat": 4,
 "nbformat_minor": 5
}
